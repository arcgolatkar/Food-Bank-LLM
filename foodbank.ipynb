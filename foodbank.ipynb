{
 "cells": [
  {
   "cell_type": "code",
   "execution_count": null,
   "id": "727d9ca9",
   "metadata": {},
   "outputs": [
    {
     "name": "stdout",
     "output_type": "stream",
     "text": [
      "🔍 Extracted Features:\n",
      "{'address': '4700 Berwyn House Rd, College Park, MD', 'region': 'MD', 'county': \"Prince George's\", 'day': 'Thursday', 'mode': 'Walk Up', 'geo_address': '4700 Berwyn House Rd, College Park, MD'}\n"
     ]
    }
   ],
   "source": [
    "# 📦 Install required packages (if not already installed)\n",
    "# !pip install openai pandas geopy\n",
    "\n",
    "from openai import OpenAI\n",
    "import pandas as pd\n",
    "from geopy.geocoders import Nominatim\n",
    "from geopy.distance import geodesic\n",
    "import json\n",
    "\n",
    "# 🔐 Initialize OpenAI client\n",
    "# client = OpenAI(api_key=\"\")  # Replace with your OpenAI API key\n",
    "\n",
    "# 📄 Load the food bank dataset\n",
    "data = pd.read_csv(\"data.csv\")  # Ensure this is the same file used in your AWS deployment\n",
    "\n",
    "# 🧠 Step 1: Get user input\n",
    "user_query = \"I need food banks near 4700 Berwyn House Rd, college park, MD that are open on Thursdays and have walk-up distribution.\"  # Replace with actual user input that are open on Thursdays and have walk-up distribution.\n",
    "\n",
    "# 🧾 Step 2: Feature Extraction Prompt (LLM1)\n",
    "feature_extractor_prompt = f\"\"\"\n",
    "Extract the following information from the user's query:\n",
    "- Address\n",
    "- Region (DC, MD, VA)\n",
    "- County\n",
    "- Day of the week\n",
    "- Distribution mode (e.g., Walk Up, Drive Through)\n",
    "- A cleaned version of the address for geocoding\n",
    "\n",
    "Query: \"{user_query}\"\n",
    "\n",
    "Return the result as a valid JSON object with these keys only:\n",
    "address, region, county, day, mode, geo_address\n",
    "\"\"\"\n",
    "\n",
    "response1 = client.chat.completions.create(\n",
    "    model=\"gpt-3.5-turbo\",\n",
    "    messages=[{\"role\": \"user\", \"content\": feature_extractor_prompt}]\n",
    ")\n",
    "\n",
    "# ✅ Clean and parse JSON output\n",
    "raw_content = response1.choices[0].message.content.strip()\n",
    "if raw_content.startswith(\"```json\"):\n",
    "    raw_content = raw_content.lstrip(\"```json\").rstrip(\"```\").strip()\n",
    "elif raw_content.startswith(\"```\"):\n",
    "    raw_content = raw_content.lstrip(\"```\").rstrip(\"```\").strip()\n",
    "\n",
    "features = json.loads(raw_content)\n",
    "\n",
    "print(\"🔍 Extracted Features:\")\n",
    "print(features)\n"
   ]
  },
  {
   "cell_type": "code",
   "execution_count": 18,
   "id": "dd436244",
   "metadata": {},
   "outputs": [
    {
     "name": "stdout",
     "output_type": "stream",
     "text": [
      "📍 Top Nearby Food Banks:\n",
      "❗ No matching food banks found for that region/county. Try relaxing the filters.\n"
     ]
    }
   ],
   "source": [
    "# Filter by region and county\n",
    "filtered_data = data[\n",
    "    (data['Region'].str.upper() == features['region'].upper()) &\n",
    "    (data['Zone'].str.upper() == features['county'].upper())\n",
    "]\n",
    "\n",
    "# Geocode address using geopy + Nominatim\n",
    "geolocator = Nominatim(user_agent=\"foodbank_chatbot\")\n",
    "user_location = geolocator.geocode(features[\"geo_address\"])\n",
    "user_coords = (user_location.latitude, user_location.longitude)\n",
    "\n",
    "# Calculate distances\n",
    "def compute_distance(row):\n",
    "    bank_coords = (row['Latitude'], row['Longitude'])\n",
    "    return geodesic(user_coords, bank_coords).miles\n",
    "\n",
    "# Compute distances and store in a new list\n",
    "distances = []\n",
    "for _, row in filtered_data.iterrows():\n",
    "    try:\n",
    "        bank_coords = (row['Latitude'], row['Longitude'])\n",
    "        dist = geodesic(user_coords, bank_coords).miles\n",
    "        distances.append(dist)\n",
    "    except:\n",
    "        distances.append(None)  # or float('inf') if you want to deprioritize it\n",
    "\n",
    "# Assign the result as a new column\n",
    "filtered_data = filtered_data.copy()\n",
    "filtered_data[\"Distance\"] = distances\n",
    "top_nearby = filtered_data.sort_values('Distance').head(10)\n",
    "\n",
    "print(\"📍 Top Nearby Food Banks:\")\n",
    "\n",
    "if filtered_data.empty:\n",
    "    print(\"❗ No matching food banks found for that region/county. Try relaxing the filters.\")\n",
    "else:\n",
    "    print(top_nearby[['Name', 'Address', 'Phone', 'Distance']])\n"
   ]
  }
 ],
 "metadata": {
  "kernelspec": {
   "display_name": "msml602",
   "language": "python",
   "name": "python3"
  },
  "language_info": {
   "codemirror_mode": {
    "name": "ipython",
    "version": 3
   },
   "file_extension": ".py",
   "mimetype": "text/x-python",
   "name": "python",
   "nbconvert_exporter": "python",
   "pygments_lexer": "ipython3",
   "version": "3.12.4"
  }
 },
 "nbformat": 4,
 "nbformat_minor": 5
}
