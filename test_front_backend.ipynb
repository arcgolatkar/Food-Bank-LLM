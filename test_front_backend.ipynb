{
 "cells": [
  {
   "cell_type": "code",
   "execution_count": 1,
   "id": "089ab011",
   "metadata": {},
   "outputs": [
    {
     "name": "stdout",
     "output_type": "stream",
     "text": [
      "Collecting repomix\n",
      "  Downloading repomix-0.2.6-py3-none-any.whl.metadata (12 kB)\n",
      "Collecting questionary>=2.0.1 (from repomix)\n",
      "  Downloading questionary-2.1.0-py3-none-any.whl.metadata (5.4 kB)\n",
      "Collecting chardet>=5.2.0 (from repomix)\n",
      "  Downloading chardet-5.2.0-py3-none-any.whl.metadata (3.4 kB)\n",
      "Collecting pyperclip>=1.9.0 (from repomix)\n",
      "  Downloading pyperclip-1.9.0.tar.gz (20 kB)\n",
      "  Installing build dependencies ... \u001b[?25ldone\n",
      "\u001b[?25h  Getting requirements to build wheel ... \u001b[?25ldone\n",
      "\u001b[?25h  Preparing metadata (pyproject.toml) ... \u001b[?25ldone\n",
      "\u001b[?25hCollecting tiktoken>=0.8.0 (from repomix)\n",
      "  Downloading tiktoken-0.9.0-cp312-cp312-manylinux_2_17_x86_64.manylinux2014_x86_64.whl.metadata (6.7 kB)\n",
      "Collecting detect-secrets>=1.5.0 (from repomix)\n",
      "  Downloading detect_secrets-1.5.0-py3-none-any.whl.metadata (23 kB)\n",
      "Requirement already satisfied: pyyaml in /home/codespace/.local/lib/python3.12/site-packages (from detect-secrets>=1.5.0->repomix) (6.0.2)\n",
      "Requirement already satisfied: requests in /home/codespace/.local/lib/python3.12/site-packages (from detect-secrets>=1.5.0->repomix) (2.28.0)\n",
      "Requirement already satisfied: prompt_toolkit<4.0,>=2.0 in /home/codespace/.local/lib/python3.12/site-packages (from questionary>=2.0.1->repomix) (3.0.50)\n",
      "Collecting regex>=2022.1.18 (from tiktoken>=0.8.0->repomix)\n",
      "  Downloading regex-2024.11.6-cp312-cp312-manylinux_2_17_x86_64.manylinux2014_x86_64.whl.metadata (40 kB)\n",
      "Requirement already satisfied: wcwidth in /home/codespace/.local/lib/python3.12/site-packages (from prompt_toolkit<4.0,>=2.0->questionary>=2.0.1->repomix) (0.2.13)\n",
      "Requirement already satisfied: charset-normalizer~=2.0.0 in /home/codespace/.local/lib/python3.12/site-packages (from requests->detect-secrets>=1.5.0->repomix) (2.0.12)\n",
      "Requirement already satisfied: idna<4,>=2.5 in /home/codespace/.local/lib/python3.12/site-packages (from requests->detect-secrets>=1.5.0->repomix) (3.10)\n",
      "Requirement already satisfied: urllib3<1.27,>=1.21.1 in /home/codespace/.local/lib/python3.12/site-packages (from requests->detect-secrets>=1.5.0->repomix) (1.26.20)\n",
      "Requirement already satisfied: certifi>=2017.4.17 in /home/codespace/.local/lib/python3.12/site-packages (from requests->detect-secrets>=1.5.0->repomix) (2025.1.31)\n",
      "Downloading repomix-0.2.6-py3-none-any.whl (49 kB)\n",
      "Downloading chardet-5.2.0-py3-none-any.whl (199 kB)\n",
      "Downloading detect_secrets-1.5.0-py3-none-any.whl (120 kB)\n",
      "Downloading questionary-2.1.0-py3-none-any.whl (36 kB)\n",
      "Downloading tiktoken-0.9.0-cp312-cp312-manylinux_2_17_x86_64.manylinux2014_x86_64.whl (1.2 MB)\n",
      "\u001b[2K   \u001b[90m━━━━━━━━━━━━━━━━━━━━━━━━━━━━━━━━━━━━━━━━\u001b[0m \u001b[32m1.2/1.2 MB\u001b[0m \u001b[31m8.9 MB/s\u001b[0m eta \u001b[36m0:00:00\u001b[0m\n",
      "\u001b[?25hDownloading regex-2024.11.6-cp312-cp312-manylinux_2_17_x86_64.manylinux2014_x86_64.whl (796 kB)\n",
      "\u001b[2K   \u001b[90m━━━━━━━━━━━━━━━━━━━━━━━━━━━━━━━━━━━━━━━━\u001b[0m \u001b[32m796.9/796.9 kB\u001b[0m \u001b[31m14.0 MB/s\u001b[0m eta \u001b[36m0:00:00\u001b[0m\n",
      "\u001b[?25hBuilding wheels for collected packages: pyperclip\n",
      "  Building wheel for pyperclip (pyproject.toml) ... \u001b[?25ldone\n",
      "\u001b[?25h  Created wheel for pyperclip: filename=pyperclip-1.9.0-py3-none-any.whl size=11102 sha256=cdb106292d5b42f12504324dea9877d86a4a44cfad7d7f17cec1d1f00acb2189\n",
      "  Stored in directory: /home/codespace/.cache/pip/wheels/e0/e8/fc/8ab8aa326e33bc066ccd5f3ca9646eab4299881af933f94f09\n",
      "Successfully built pyperclip\n",
      "Installing collected packages: pyperclip, regex, chardet, tiktoken, questionary, detect-secrets, repomix\n",
      "Successfully installed chardet-5.2.0 detect-secrets-1.5.0 pyperclip-1.9.0 questionary-2.1.0 regex-2024.11.6 repomix-0.2.6 tiktoken-0.9.0\n",
      "\n",
      "\u001b[1m[\u001b[0m\u001b[34;49mnotice\u001b[0m\u001b[1;39;49m]\u001b[0m\u001b[39;49m A new release of pip is available: \u001b[0m\u001b[31;49m25.0.1\u001b[0m\u001b[39;49m -> \u001b[0m\u001b[32;49m25.1\u001b[0m\n",
      "\u001b[1m[\u001b[0m\u001b[34;49mnotice\u001b[0m\u001b[1;39;49m]\u001b[0m\u001b[39;49m To update, run: \u001b[0m\u001b[32;49mpython3 -m pip install --upgrade pip\u001b[0m\n"
     ]
    }
   ],
   "source": [
    "!pip install repomix"
   ]
  },
  {
   "cell_type": "code",
   "execution_count": 5,
   "id": "f6e21adc",
   "metadata": {},
   "outputs": [
    {
     "name": "stdout",
     "output_type": "stream",
     "text": [
      "\n",
      "📦 Repomix v0.2.6\n",
      "\n",
      "\n",
      "📊 Packaging Summary:\n",
      "────────────────\n",
      " Total Files: 19 files\n",
      " Total Characters: 284600 characters\n",
      " Token calculation: disabled\n",
      " Output to: repomix-output.md\n",
      " Security: Detected 1 suspicious files and excluded\n",
      "\n",
      "🔎 Security Check:\n",
      "──────────────────\n",
      "Detected 1 suspicious files and excluded from output:\n",
      "1. backend/config.py\n",
      "   - Secret detected: Base64 High Entropy String, Secret detected: Secret Keyword\n",
      "\n",
      "These files have been excluded from the output due to security reasons.\n",
      "Please check these files for sensitive information.\n",
      "\n",
      "📈 Top 5 files by character and token count:\n",
      "──────────────────────────────────────────────────\n",
      "1.  data/process_address.ipynb (227525 characters)\n",
      "2.  data/data_preprocessing.ipynb (18678 characters)\n",
      "3.  test_front_backend.ipynb (6911 characters)\n",
      "4.  backend/main.py (6060 characters)\n",
      "5.  backend/prompts.py (5569 characters)\n",
      "\n",
      "🎉 Done!\n",
      "Your code repository has been successfully packaged.\n"
     ]
    }
   ],
   "source": [
    "!repomix"
   ]
  },
  {
   "cell_type": "code",
   "execution_count": 4,
   "id": "2c5c5b9d",
   "metadata": {},
   "outputs": [
    {
     "ename": "NameError",
     "evalue": "name 'repomix' is not defined",
     "output_type": "error",
     "traceback": [
      "\u001b[31m---------------------------------------------------------------------------\u001b[39m",
      "\u001b[31mNameError\u001b[39m                                 Traceback (most recent call last)",
      "\u001b[36mCell\u001b[39m\u001b[36m \u001b[39m\u001b[32mIn[4]\u001b[39m\u001b[32m, line 1\u001b[39m\n\u001b[32m----> \u001b[39m\u001b[32m1\u001b[39m \u001b[43mrepomix\u001b[49m\n",
      "\u001b[31mNameError\u001b[39m: name 'repomix' is not defined"
     ]
    }
   ],
   "source": [
    "repomix"
   ]
  },
  {
   "cell_type": "code",
   "execution_count": null,
   "id": "25b2ac7b",
   "metadata": {},
   "outputs": [],
   "source": []
  }
 ],
 "metadata": {
  "kernelspec": {
   "display_name": "Python 3",
   "language": "python",
   "name": "python3"
  },
  "language_info": {
   "codemirror_mode": {
    "name": "ipython",
    "version": 3
   },
   "file_extension": ".py",
   "mimetype": "text/x-python",
   "name": "python",
   "nbconvert_exporter": "python",
   "pygments_lexer": "ipython3",
   "version": "3.12.1"
  }
 },
 "nbformat": 4,
 "nbformat_minor": 5
}
